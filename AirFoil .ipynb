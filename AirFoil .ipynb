{
 "cells": [
  {
   "cell_type": "code",
   "execution_count": 3,
   "id": "5bd9d020",
   "metadata": {},
   "outputs": [],
   "source": [
    "import pandas as pd"
   ]
  },
  {
   "cell_type": "code",
   "execution_count": 4,
   "id": "c89a9baf",
   "metadata": {},
   "outputs": [],
   "source": [
    "df = pd.read_csv('airfoil_self_noise.dat',sep='\\t', header=None)"
   ]
  },
  {
   "cell_type": "markdown",
   "id": "1436cbfe",
   "metadata": {},
   "source": [
    "Attribute Information:\n",
    "\n",
    "This problem has the following inputs:\n",
    "1. Frequency, in Hertzs.\n",
    "2. Angle of attack, in degrees.\n",
    "3. Chord length, in meters.\n",
    "4. Free-stream velocity, in meters per second.\n",
    "5. Suction side displacement thickness, in meters.\n",
    "\n",
    "The only output is:\n",
    "6. Scaled sound pressure level, in decibels."
   ]
  },
  {
   "cell_type": "code",
   "execution_count": 5,
   "id": "88bac2a8",
   "metadata": {},
   "outputs": [
    {
     "data": {
      "text/html": [
       "<div>\n",
       "<style scoped>\n",
       "    .dataframe tbody tr th:only-of-type {\n",
       "        vertical-align: middle;\n",
       "    }\n",
       "\n",
       "    .dataframe tbody tr th {\n",
       "        vertical-align: top;\n",
       "    }\n",
       "\n",
       "    .dataframe thead th {\n",
       "        text-align: right;\n",
       "    }\n",
       "</style>\n",
       "<table border=\"1\" class=\"dataframe\">\n",
       "  <thead>\n",
       "    <tr style=\"text-align: right;\">\n",
       "      <th></th>\n",
       "      <th>0</th>\n",
       "      <th>1</th>\n",
       "      <th>2</th>\n",
       "      <th>3</th>\n",
       "      <th>4</th>\n",
       "      <th>5</th>\n",
       "    </tr>\n",
       "  </thead>\n",
       "  <tbody>\n",
       "    <tr>\n",
       "      <th>0</th>\n",
       "      <td>800</td>\n",
       "      <td>0.0</td>\n",
       "      <td>0.3048</td>\n",
       "      <td>71.3</td>\n",
       "      <td>0.002663</td>\n",
       "      <td>126.201</td>\n",
       "    </tr>\n",
       "    <tr>\n",
       "      <th>1</th>\n",
       "      <td>1000</td>\n",
       "      <td>0.0</td>\n",
       "      <td>0.3048</td>\n",
       "      <td>71.3</td>\n",
       "      <td>0.002663</td>\n",
       "      <td>125.201</td>\n",
       "    </tr>\n",
       "    <tr>\n",
       "      <th>2</th>\n",
       "      <td>1250</td>\n",
       "      <td>0.0</td>\n",
       "      <td>0.3048</td>\n",
       "      <td>71.3</td>\n",
       "      <td>0.002663</td>\n",
       "      <td>125.951</td>\n",
       "    </tr>\n",
       "    <tr>\n",
       "      <th>3</th>\n",
       "      <td>1600</td>\n",
       "      <td>0.0</td>\n",
       "      <td>0.3048</td>\n",
       "      <td>71.3</td>\n",
       "      <td>0.002663</td>\n",
       "      <td>127.591</td>\n",
       "    </tr>\n",
       "    <tr>\n",
       "      <th>4</th>\n",
       "      <td>2000</td>\n",
       "      <td>0.0</td>\n",
       "      <td>0.3048</td>\n",
       "      <td>71.3</td>\n",
       "      <td>0.002663</td>\n",
       "      <td>127.461</td>\n",
       "    </tr>\n",
       "  </tbody>\n",
       "</table>\n",
       "</div>"
      ],
      "text/plain": [
       "      0    1       2     3         4        5\n",
       "0   800  0.0  0.3048  71.3  0.002663  126.201\n",
       "1  1000  0.0  0.3048  71.3  0.002663  125.201\n",
       "2  1250  0.0  0.3048  71.3  0.002663  125.951\n",
       "3  1600  0.0  0.3048  71.3  0.002663  127.591\n",
       "4  2000  0.0  0.3048  71.3  0.002663  127.461"
      ]
     },
     "execution_count": 5,
     "metadata": {},
     "output_type": "execute_result"
    }
   ],
   "source": [
    "df.head()"
   ]
  },
  {
   "cell_type": "code",
   "execution_count": 6,
   "id": "caf2c914",
   "metadata": {},
   "outputs": [],
   "source": [
    "df.columns = ['Frequency', 'Angle of attack', 'Chord length', 'Free-stream velocity', 'Suction side', 'pressure level' ]"
   ]
  },
  {
   "cell_type": "code",
   "execution_count": 7,
   "id": "d39e6e68",
   "metadata": {},
   "outputs": [
    {
     "data": {
      "text/html": [
       "<div>\n",
       "<style scoped>\n",
       "    .dataframe tbody tr th:only-of-type {\n",
       "        vertical-align: middle;\n",
       "    }\n",
       "\n",
       "    .dataframe tbody tr th {\n",
       "        vertical-align: top;\n",
       "    }\n",
       "\n",
       "    .dataframe thead th {\n",
       "        text-align: right;\n",
       "    }\n",
       "</style>\n",
       "<table border=\"1\" class=\"dataframe\">\n",
       "  <thead>\n",
       "    <tr style=\"text-align: right;\">\n",
       "      <th></th>\n",
       "      <th>Frequency</th>\n",
       "      <th>Angle of attack</th>\n",
       "      <th>Chord length</th>\n",
       "      <th>Free-stream velocity</th>\n",
       "      <th>Suction side</th>\n",
       "      <th>pressure level</th>\n",
       "    </tr>\n",
       "  </thead>\n",
       "  <tbody>\n",
       "    <tr>\n",
       "      <th>0</th>\n",
       "      <td>800</td>\n",
       "      <td>0.0</td>\n",
       "      <td>0.3048</td>\n",
       "      <td>71.3</td>\n",
       "      <td>0.002663</td>\n",
       "      <td>126.201</td>\n",
       "    </tr>\n",
       "    <tr>\n",
       "      <th>1</th>\n",
       "      <td>1000</td>\n",
       "      <td>0.0</td>\n",
       "      <td>0.3048</td>\n",
       "      <td>71.3</td>\n",
       "      <td>0.002663</td>\n",
       "      <td>125.201</td>\n",
       "    </tr>\n",
       "    <tr>\n",
       "      <th>2</th>\n",
       "      <td>1250</td>\n",
       "      <td>0.0</td>\n",
       "      <td>0.3048</td>\n",
       "      <td>71.3</td>\n",
       "      <td>0.002663</td>\n",
       "      <td>125.951</td>\n",
       "    </tr>\n",
       "    <tr>\n",
       "      <th>3</th>\n",
       "      <td>1600</td>\n",
       "      <td>0.0</td>\n",
       "      <td>0.3048</td>\n",
       "      <td>71.3</td>\n",
       "      <td>0.002663</td>\n",
       "      <td>127.591</td>\n",
       "    </tr>\n",
       "    <tr>\n",
       "      <th>4</th>\n",
       "      <td>2000</td>\n",
       "      <td>0.0</td>\n",
       "      <td>0.3048</td>\n",
       "      <td>71.3</td>\n",
       "      <td>0.002663</td>\n",
       "      <td>127.461</td>\n",
       "    </tr>\n",
       "  </tbody>\n",
       "</table>\n",
       "</div>"
      ],
      "text/plain": [
       "   Frequency  Angle of attack  Chord length  Free-stream velocity  \\\n",
       "0        800              0.0        0.3048                  71.3   \n",
       "1       1000              0.0        0.3048                  71.3   \n",
       "2       1250              0.0        0.3048                  71.3   \n",
       "3       1600              0.0        0.3048                  71.3   \n",
       "4       2000              0.0        0.3048                  71.3   \n",
       "\n",
       "   Suction side  pressure level  \n",
       "0      0.002663         126.201  \n",
       "1      0.002663         125.201  \n",
       "2      0.002663         125.951  \n",
       "3      0.002663         127.591  \n",
       "4      0.002663         127.461  "
      ]
     },
     "execution_count": 7,
     "metadata": {},
     "output_type": "execute_result"
    }
   ],
   "source": [
    "df.head()"
   ]
  },
  {
   "cell_type": "code",
   "execution_count": 8,
   "id": "2b59018b",
   "metadata": {},
   "outputs": [
    {
     "data": {
      "text/plain": [
       "Frequency               0\n",
       "Angle of attack         0\n",
       "Chord length            0\n",
       "Free-stream velocity    0\n",
       "Suction side            0\n",
       "pressure level          0\n",
       "dtype: int64"
      ]
     },
     "execution_count": 8,
     "metadata": {},
     "output_type": "execute_result"
    }
   ],
   "source": [
    "df.isnull().sum()"
   ]
  },
  {
   "cell_type": "code",
   "execution_count": 9,
   "id": "6c125671",
   "metadata": {},
   "outputs": [],
   "source": [
    "X = df.iloc[:,:-1]\n",
    "y = df.iloc[:,-1]"
   ]
  },
  {
   "cell_type": "code",
   "execution_count": 10,
   "id": "5d8db8a6",
   "metadata": {},
   "outputs": [],
   "source": [
    "## first to train test split\n",
    "from sklearn.model_selection import train_test_split\n",
    "X_train, X_test, y_train, y_test = train_test_split(X,y, test_size=0.33, random_state=33)"
   ]
  },
  {
   "cell_type": "code",
   "execution_count": 11,
   "id": "a35c0e79",
   "metadata": {},
   "outputs": [
    {
     "data": {
      "text/plain": [
       "819     120.015\n",
       "382     125.721\n",
       "1443    129.415\n",
       "101     129.004\n",
       "96      106.111\n",
       "         ...   \n",
       "1225    116.066\n",
       "658     112.945\n",
       "578     119.137\n",
       "391     139.918\n",
       "1044    116.128\n",
       "Name: pressure level, Length: 1007, dtype: float64"
      ]
     },
     "execution_count": 11,
     "metadata": {},
     "output_type": "execute_result"
    }
   ],
   "source": [
    "y_train"
   ]
  },
  {
   "cell_type": "code",
   "execution_count": 12,
   "id": "f1a4509d",
   "metadata": {
    "scrolled": true
   },
   "outputs": [
    {
     "data": {
      "text/plain": [
       "<seaborn.axisgrid.PairGrid at 0x22e99a97898>"
      ]
     },
     "execution_count": 12,
     "metadata": {},
     "output_type": "execute_result"
    },
    {
     "data": {
      "image/png": "[encoded data removed]",
      "text/plain": [
       "<Figure size 900x900 with 30 Axes>"
      ]
     },
     "metadata": {
      "needs_background": "light"
     },
     "output_type": "display_data"
    }
   ],
   "source": [
    "import seaborn as sns\n",
    "sns.pairplot(X_train)"
   ]
  },
  {
   "cell_type": "code",
   "execution_count": 13,
   "id": "397ca3d5",
   "metadata": {},
   "outputs": [
    {
     "data": {
      "text/html": [
       "<div>\n",
       "<style scoped>\n",
       "    .dataframe tbody tr th:only-of-type {\n",
       "        vertical-align: middle;\n",
       "    }\n",
       "\n",
       "    .dataframe tbody tr th {\n",
       "        vertical-align: top;\n",
       "    }\n",
       "\n",
       "    .dataframe thead th {\n",
       "        text-align: right;\n",
       "    }\n",
       "</style>\n",
       "<table border=\"1\" class=\"dataframe\">\n",
       "  <thead>\n",
       "    <tr style=\"text-align: right;\">\n",
       "      <th></th>\n",
       "      <th>Frequency</th>\n",
       "      <th>Angle of attack</th>\n",
       "      <th>Chord length</th>\n",
       "      <th>Free-stream velocity</th>\n",
       "      <th>Suction side</th>\n",
       "    </tr>\n",
       "  </thead>\n",
       "  <tbody>\n",
       "    <tr>\n",
       "      <th>Frequency</th>\n",
       "      <td>1.000000</td>\n",
       "      <td>-0.257344</td>\n",
       "      <td>0.035282</td>\n",
       "      <td>0.144002</td>\n",
       "      <td>-0.214892</td>\n",
       "    </tr>\n",
       "    <tr>\n",
       "      <th>Angle of attack</th>\n",
       "      <td>-0.257344</td>\n",
       "      <td>1.000000</td>\n",
       "      <td>-0.526753</td>\n",
       "      <td>0.049176</td>\n",
       "      <td>0.748115</td>\n",
       "    </tr>\n",
       "    <tr>\n",
       "      <th>Chord length</th>\n",
       "      <td>0.035282</td>\n",
       "      <td>-0.526753</td>\n",
       "      <td>1.000000</td>\n",
       "      <td>0.011068</td>\n",
       "      <td>-0.237092</td>\n",
       "    </tr>\n",
       "    <tr>\n",
       "      <th>Free-stream velocity</th>\n",
       "      <td>0.144002</td>\n",
       "      <td>0.049176</td>\n",
       "      <td>0.011068</td>\n",
       "      <td>1.000000</td>\n",
       "      <td>-0.016101</td>\n",
       "    </tr>\n",
       "    <tr>\n",
       "      <th>Suction side</th>\n",
       "      <td>-0.214892</td>\n",
       "      <td>0.748115</td>\n",
       "      <td>-0.237092</td>\n",
       "      <td>-0.016101</td>\n",
       "      <td>1.000000</td>\n",
       "    </tr>\n",
       "  </tbody>\n",
       "</table>\n",
       "</div>"
      ],
      "text/plain": [
       "                      Frequency  Angle of attack  Chord length  \\\n",
       "Frequency              1.000000        -0.257344      0.035282   \n",
       "Angle of attack       -0.257344         1.000000     -0.526753   \n",
       "Chord length           0.035282        -0.526753      1.000000   \n",
       "Free-stream velocity   0.144002         0.049176      0.011068   \n",
       "Suction side          -0.214892         0.748115     -0.237092   \n",
       "\n",
       "                      Free-stream velocity  Suction side  \n",
       "Frequency                         0.144002     -0.214892  \n",
       "Angle of attack                   0.049176      0.748115  \n",
       "Chord length                      0.011068     -0.237092  \n",
       "Free-stream velocity              1.000000     -0.016101  \n",
       "Suction side                     -0.016101      1.000000  "
      ]
     },
     "execution_count": 13,
     "metadata": {},
     "output_type": "execute_result"
    }
   ],
   "source": [
    "import matplotlib.pyplot as plt\n",
    "X_train.corr()"
   ]
  },
  {
   "cell_type": "code",
   "execution_count": 14,
   "id": "9afca3d6",
   "metadata": {},
   "outputs": [
    {
     "name": "stderr",
     "output_type": "stream",
     "text": [
      "C:\\Users\\Ranjeet\\anaconda3\\envs\\python_mysql\\lib\\site-packages\\seaborn\\_decorators.py:43: FutureWarning: Pass the following variable as a keyword arg: x. From version 0.12, the only valid positional argument will be `data`, and passing other arguments without an explicit keyword will result in an error or misinterpretation.\n",
      "  FutureWarning\n"
     ]
    },
    {
     "data": {
      "text/plain": [
       "<AxesSubplot:xlabel='Frequency'>"
      ]
     },
     "execution_count": 14,
     "metadata": {},
     "output_type": "execute_result"
    },
    {
     "data": {
      "image/png": "[encoded data removed]",
      "text/plain": [
       "<Figure size 432x288 with 1 Axes>"
      ]
     },
     "metadata": {
      "needs_background": "light"
     },
     "output_type": "display_data"
    }
   ],
   "source": [
    "sns.boxplot(X_train['Frequency'])"
   ]
  },
  {
   "cell_type": "code",
   "execution_count": 15,
   "id": "65afc0e4",
   "metadata": {},
   "outputs": [
    {
     "data": {
      "text/plain": [
       "Index(['Frequency', 'Angle of attack', 'Chord length', 'Free-stream velocity',\n",
       "       'Suction side', 'pressure level'],\n",
       "      dtype='object')"
      ]
     },
     "execution_count": 15,
     "metadata": {},
     "output_type": "execute_result"
    }
   ],
   "source": [
    "df.columns"
   ]
  },
  {
   "cell_type": "code",
   "execution_count": 16,
   "id": "6592d41b",
   "metadata": {},
   "outputs": [
    {
     "name": "stderr",
     "output_type": "stream",
     "text": [
      "C:\\Users\\Ranjeet\\anaconda3\\envs\\python_mysql\\lib\\site-packages\\seaborn\\_decorators.py:43: FutureWarning: Pass the following variables as keyword args: x, y. From version 0.12, the only valid positional argument will be `data`, and passing other arguments without an explicit keyword will result in an error or misinterpretation.\n",
      "  FutureWarning\n"
     ]
    },
    {
     "data": {
      "text/plain": [
       "<AxesSubplot:xlabel='Frequency', ylabel='pressure level'>"
      ]
     },
     "execution_count": 16,
     "metadata": {},
     "output_type": "execute_result"
    },
    {
     "data": {
      "image/png": "[encoded data removed]",
      "text/plain": [
       "<Figure size 432x288 with 1 Axes>"
      ]
     },
     "metadata": {
      "needs_background": "light"
     },
     "output_type": "display_data"
    }
   ],
   "source": [
    "sns.scatterplot(X_train['Frequency'], y_train)"
   ]
  },
  {
   "cell_type": "code",
   "execution_count": 17,
   "id": "55141c7b",
   "metadata": {},
   "outputs": [
    {
     "data": {
      "text/plain": [
       "LinearRegression()"
      ]
     },
     "execution_count": 17,
     "metadata": {},
     "output_type": "execute_result"
    }
   ],
   "source": [
    "from sklearn.linear_model import LinearRegression\n",
    "regressor = LinearRegression()\n",
    "regressor.fit(X_train, y_train)"
   ]
  },
  {
   "cell_type": "code",
   "execution_count": 18,
   "id": "97a9052f",
   "metadata": {},
   "outputs": [],
   "source": [
    "import pickle\n",
    "pickle.dump(regressor, open('model.pkl', 'wb'))"
   ]
  },
  {
   "cell_type": "code",
   "execution_count": 22,
   "id": "e4d2bb58",
   "metadata": {},
   "outputs": [
    {
     "data": {
      "text/plain": [
       "array([128.77085688, 124.77171762, 134.52280633, 126.88055851,\n",
       "       132.15318642, 131.12582587, 128.42657957, 120.60575792,\n",
       "       128.43657219, 128.11284694, 120.33961503, 118.66810505,\n",
       "       121.36956485, 116.05754694, 122.73837272, 125.51936815,\n",
       "       125.64811188, 127.26879636, 116.68343647, 119.71159499,\n",
       "       119.84217525, 126.87703927, 119.29584998, 124.00022924,\n",
       "       129.76851019, 128.90009313, 121.39520247, 121.51742493,\n",
       "       109.1647353 , 121.70080663, 125.73945581, 133.43274098,\n",
       "       129.45743973, 123.25388402, 125.22705336, 123.91091431,\n",
       "       127.14726899, 120.53915156, 124.19428709, 112.40383472,\n",
       "       127.52464633, 124.81869416, 132.85358115, 117.93540821,\n",
       "       128.29322027, 121.89203614, 128.48105427, 123.10218306,\n",
       "       119.7910695 , 126.88139101, 127.83911368, 122.39705449,\n",
       "       128.87436192, 116.77729708, 122.59568371, 119.7996535 ,\n",
       "       121.31161392, 131.60812373, 123.31966593, 121.21621492,\n",
       "       122.49975254, 126.62307106, 126.05481323, 129.86567108,\n",
       "       127.0647578 , 125.22901247, 130.97043184, 123.82086622,\n",
       "       130.99644737, 127.94854585, 122.36420991, 125.33563378,\n",
       "       119.62543225, 125.25022964, 120.12845837, 126.16536376,\n",
       "       116.96958282, 118.35050819, 105.58426103, 125.31269589,\n",
       "       125.04048823, 125.51074541, 129.28121181, 124.4318929 ,\n",
       "       135.17128326, 121.63048485, 126.91341086, 131.00662557,\n",
       "       126.25416961, 119.15905604, 125.77921404, 117.6130168 ,\n",
       "       124.27105975, 115.65348665, 121.13361048, 130.44501786,\n",
       "       127.41690708, 126.83575256, 129.36354812, 121.16880949,\n",
       "       132.75292669, 119.6067259 , 131.44216   , 127.98114798,\n",
       "       129.91712506, 124.00141549, 126.85966007, 125.01931011,\n",
       "       130.67522282, 133.29258973, 123.87464542, 120.48929053,\n",
       "       125.13313697, 130.1447096 , 126.23069975, 123.98399078,\n",
       "       127.23212464, 130.74913812, 127.74227274, 131.56858001,\n",
       "       130.70498203, 117.47194827, 130.43209997, 121.36942543,\n",
       "       121.60033552, 125.76744114, 112.01319675, 122.01463105,\n",
       "       130.28114274, 126.04455678, 122.86765284, 128.47629441,\n",
       "       118.16991683, 124.6572501 , 122.95425524, 127.48006859,\n",
       "       117.18689064, 134.9073127 , 129.61009167, 130.32201494,\n",
       "       120.96840605, 126.23185881, 122.63239593, 127.96888983,\n",
       "       119.50493927, 127.5430031 , 122.29188324, 121.43609519,\n",
       "       121.6593333 , 122.20625966, 125.8129506 , 128.78426269,\n",
       "       126.26969223, 122.89739954, 126.00950959, 122.31798972,\n",
       "       124.76323256, 127.60589847, 126.08719771, 129.67630406,\n",
       "       121.52603271, 119.38594921, 124.69191515, 131.61197699,\n",
       "       130.34483607, 117.51367396, 129.26250546, 129.21247419,\n",
       "       124.01018404, 124.52515895, 128.48869051, 131.61360348,\n",
       "       122.76305055, 126.25068188, 121.94348951, 128.39797017,\n",
       "       125.40110197, 126.32077765, 129.70393629, 128.0997135 ,\n",
       "       121.83770302, 125.71261241, 124.709262  , 123.78817426,\n",
       "       127.32764232, 123.89203794, 127.92775779, 124.97573678,\n",
       "       129.73750467, 124.13213428, 125.75434796, 122.41596203,\n",
       "       122.99780661, 131.52160048, 121.91244698, 122.40167314,\n",
       "       119.95980479, 126.83021014, 125.61938585, 129.09447073,\n",
       "       123.96338457, 127.77278038, 124.46691069, 117.16735264,\n",
       "       127.55061133, 122.15148651, 128.40410958, 121.82154068,\n",
       "       120.27510375, 120.83189464, 127.0985541 , 114.42686286,\n",
       "       120.89483327, 118.45863377, 126.62391612, 132.64887109,\n",
       "       129.92584527, 123.5958633 , 124.79838112, 122.26202093,\n",
       "       126.57602893, 132.35253611, 124.46712198, 126.73091635,\n",
       "       124.87564952, 129.27310688, 131.96648571, 122.99309153,\n",
       "       128.2969275 , 122.8499783 , 113.58785514, 122.07981382,\n",
       "       133.37331592, 126.63740155, 124.7245479 , 119.01865267,\n",
       "       121.22278005, 126.38574023, 124.61376737, 124.64710779,\n",
       "       124.61398259, 123.82041587, 118.95400737, 125.71834572,\n",
       "       130.31207645, 120.87517949, 129.66835781, 130.34497804,\n",
       "       125.38120995, 116.17383731, 124.78113421, 123.43083727,\n",
       "       120.66912048, 127.73245026, 117.85991359, 127.11057285,\n",
       "       127.39553342, 130.55025235, 119.89038477, 125.74143088,\n",
       "       122.84246084, 117.54680441, 119.49403079, 129.4779595 ,\n",
       "       124.78300078, 126.78023395, 128.13010748, 129.68027891,\n",
       "       125.26094378, 119.74912364, 127.21625984, 127.79098762,\n",
       "       119.26240084, 132.12640973, 121.32272811, 132.51106782,\n",
       "       125.11204524, 131.18181227, 128.80058987, 131.4515108 ,\n",
       "       120.67900947, 122.97403145, 126.43196213, 122.36594405,\n",
       "       129.03710244, 122.46502908, 128.8179822 , 122.94509264,\n",
       "       124.05020318, 125.81594364, 125.33764045, 119.18092148,\n",
       "       126.94518473, 130.64254577, 123.88735334, 121.38851002,\n",
       "       121.64858539, 130.51711314, 130.15472273, 131.11889756,\n",
       "       122.87057182, 126.32521858, 121.96950118, 117.2449486 ,\n",
       "       127.84632446, 126.49316274, 124.5356983 , 124.415632  ,\n",
       "       127.1886702 , 126.19263131, 122.01875096, 121.72222541,\n",
       "       126.53964199, 116.59839006, 123.59048921, 124.0171597 ,\n",
       "       116.53538118, 126.39922565, 125.80382767, 127.34500356,\n",
       "       118.98766648, 129.16747266, 119.82217994, 128.41368016,\n",
       "       133.5511378 , 124.46806974, 127.23527018, 121.88453976,\n",
       "       125.90619837, 122.00588771, 117.52295162, 125.65577238,\n",
       "       128.32648717, 116.54020277, 124.95634815, 126.85055572,\n",
       "       126.01183542, 114.3144844 , 114.36604938, 132.53648169,\n",
       "       128.00014905, 122.89956196, 110.3395283 , 120.46070188,\n",
       "       119.19736884, 127.91973135, 127.39662975, 127.64950164,\n",
       "       127.286953  , 128.421964  , 131.35196476, 127.56496236,\n",
       "       131.9924193 , 116.76305136, 130.65040473, 121.98912937,\n",
       "       122.89179428, 116.72097543, 125.97681763, 122.61016539,\n",
       "       123.58821224, 119.37581612, 123.839161  , 122.76113965,\n",
       "       120.55167579, 122.94449361, 115.99291271, 128.81208361,\n",
       "       120.82608408, 114.88102429, 121.34686955, 126.8426702 ,\n",
       "       130.85805337, 114.89880786, 133.07478601, 118.04484038,\n",
       "       128.97061532, 132.99643553, 128.57147643, 133.49494056,\n",
       "       129.13373988, 124.34711794, 119.72590042, 129.28719747,\n",
       "       125.28859166, 129.44665087, 130.66388219, 116.50787654,\n",
       "       118.09847197, 123.29197075, 116.42594902, 127.17873118,\n",
       "       134.33444903, 120.32385143, 126.13328029, 121.32630528,\n",
       "       128.25724765, 126.36574974, 127.02570683, 116.11453735,\n",
       "       122.55910518, 123.18032547, 124.9502351 , 121.04288856,\n",
       "       127.51841223, 125.31335603, 127.60754335, 126.37480662,\n",
       "       127.52510965, 125.24757527, 128.81254692, 128.09037825,\n",
       "       134.43096091, 128.38092054, 117.07375747, 120.188176  ,\n",
       "       123.35731629, 129.27340642, 123.06476639, 121.92704618,\n",
       "       134.10910159, 111.53264011, 132.65810633, 126.40353965,\n",
       "       115.5976302 , 129.4302779 , 126.07599671, 126.29410748,\n",
       "       129.04821005, 115.13191501, 122.31032233, 114.61267763,\n",
       "       123.71753636, 132.1269519 , 127.11705414, 130.79846001,\n",
       "       117.96982648, 130.80333178, 123.24826103, 123.66279782,\n",
       "       129.07003438, 130.27634737, 128.16909211, 124.756475  ,\n",
       "       122.05961428, 127.45443573, 126.26171988, 127.53544854,\n",
       "       120.11297436, 124.01053841, 126.7857137 , 116.39048349,\n",
       "       126.64032052, 128.823351  , 122.87123001, 117.93341942,\n",
       "       125.52164512, 127.75425153, 116.41935228, 123.4955635 ,\n",
       "       130.1875304 , 121.11188219, 127.53811916, 124.53565834,\n",
       "       125.82309562, 121.52737568, 121.82194694, 117.63929764,\n",
       "       127.2775791 , 129.22442916, 123.08088839, 122.60411995,\n",
       "       118.63744072, 128.3079109 , 115.78674783, 126.84589346,\n",
       "       120.6396089 , 123.64011521, 130.06126339, 127.54444045,\n",
       "       122.40339797, 123.2574612 , 127.75660945, 131.81203686,\n",
       "       123.5527861 , 128.18524525, 121.24599167, 121.31247879,\n",
       "       122.4073804 , 125.61045098, 121.03350832, 122.43773532,\n",
       "       124.45201853, 122.57076481, 122.95134003, 127.35467588])"
      ]
     },
     "execution_count": 22,
     "metadata": {},
     "output_type": "execute_result"
    }
   ],
   "source": [
    "import pickle\n",
    "pickle_model= pickle.load(open('model.pkl', 'rb'))\n",
    "## batch input\n",
    "pickle_model.predict(X_test)\n"
   ]
  },
  {
   "cell_type": "code",
   "execution_count": null,
   "id": "793c2c0d",
   "metadata": {},
   "outputs": [],
   "source": [
    "# single input "
   ]
  },
  {
   "cell_type": "code",
   "execution_count": 23,
   "id": "20eaf6f5",
   "metadata": {},
   "outputs": [
    {
     "name": "stdout",
     "output_type": "stream",
     "text": [
      "Collecting flask\n",
      "  Downloading Flask-2.1.2-py3-none-any.whl (95 kB)\n",
      "Requirement already satisfied: click>=8.0 in c:\\users\\ranjeet\\anaconda3\\envs\\python_mysql\\lib\\site-packages (from flask) (8.0.4)\n",
      "Requirement already satisfied: importlib-metadata>=3.6.0 in c:\\users\\ranjeet\\anaconda3\\envs\\python_mysql\\lib\\site-packages (from flask) (4.10.1)\n",
      "Collecting itsdangerous>=2.0\n",
      "  Using cached itsdangerous-2.1.2-py3-none-any.whl (15 kB)\n",
      "Collecting Werkzeug>=2.0\n",
      "  Downloading Werkzeug-2.1.2-py3-none-any.whl (224 kB)\n",
      "Requirement already satisfied: Jinja2>=3.0 in c:\\users\\ranjeet\\anaconda3\\envs\\python_mysql\\lib\\site-packages (from flask) (3.0.3)\n",
      "Requirement already satisfied: colorama in c:\\users\\ranjeet\\anaconda3\\envs\\python_mysql\\lib\\site-packages (from click>=8.0->flask) (0.4.4)\n",
      "Requirement already satisfied: typing-extensions>=3.6.4 in c:\\users\\ranjeet\\anaconda3\\envs\\python_mysql\\lib\\site-packages (from importlib-metadata>=3.6.0->flask) (4.0.1)\n",
      "Requirement already satisfied: zipp>=0.5 in c:\\users\\ranjeet\\anaconda3\\envs\\python_mysql\\lib\\site-packages (from importlib-metadata>=3.6.0->flask) (3.7.0)\n",
      "Requirement already satisfied: MarkupSafe>=2.0 in c:\\users\\ranjeet\\anaconda3\\envs\\python_mysql\\lib\\site-packages (from Jinja2>=3.0->flask) (2.0.1)\n",
      "Installing collected packages: Werkzeug, itsdangerous, flask\n",
      "Successfully installed Werkzeug-2.1.2 flask-2.1.2 itsdangerous-2.1.2\n"
     ]
    }
   ],
   "source": [
    "!pip install flask"
   ]
  },
  {
   "cell_type": "code",
   "execution_count": null,
   "id": "66145f78",
   "metadata": {},
   "outputs": [],
   "source": []
  },
  {
   "cell_type": "code",
   "execution_count": 43,
   "id": "4f078ff7",
   "metadata": {},
   "outputs": [],
   "source": [
    "from sklearn.svm import SVR\n",
    "from sklearn.metrics import accuracy_score"
   ]
  },
  {
   "cell_type": "code",
   "execution_count": 44,
   "id": "c9499152",
   "metadata": {},
   "outputs": [],
   "source": [
    "regressor = SVR()"
   ]
  },
  {
   "cell_type": "code",
   "execution_count": 45,
   "id": "d343a1d7",
   "metadata": {},
   "outputs": [
    {
     "data": {
      "text/plain": [
       "SVR()"
      ]
     },
     "execution_count": 45,
     "metadata": {},
     "output_type": "execute_result"
    }
   ],
   "source": [
    "regressor.fit(X_train, y_train)"
   ]
  },
  {
   "cell_type": "code",
   "execution_count": null,
   "id": "3b309d20",
   "metadata": {},
   "outputs": [],
   "source": []
  },
  {
   "cell_type": "code",
   "execution_count": 49,
   "id": "3b5aea9e",
   "metadata": {},
   "outputs": [
    {
     "data": {
      "text/plain": [
       "0.10428321048265765"
      ]
     },
     "execution_count": 49,
     "metadata": {},
     "output_type": "execute_result"
    }
   ],
   "source": [
    "y_pred = regressor.predict(X_test)\n",
    "regressor.score(X_test, y_test)"
   ]
  },
  {
   "cell_type": "code",
   "execution_count": 51,
   "id": "c0c2e9e6",
   "metadata": {},
   "outputs": [],
   "source": [
    "import seaborn as sns\n",
    "df = sns.load_dataset('iris')"
   ]
  },
  {
   "cell_type": "code",
   "execution_count": 62,
   "id": "38736257",
   "metadata": {},
   "outputs": [
    {
     "data": {
      "text/html": [
       "<div>\n",
       "<style scoped>\n",
       "    .dataframe tbody tr th:only-of-type {\n",
       "        vertical-align: middle;\n",
       "    }\n",
       "\n",
       "    .dataframe tbody tr th {\n",
       "        vertical-align: top;\n",
       "    }\n",
       "\n",
       "    .dataframe thead th {\n",
       "        text-align: right;\n",
       "    }\n",
       "</style>\n",
       "<table border=\"1\" class=\"dataframe\">\n",
       "  <thead>\n",
       "    <tr style=\"text-align: right;\">\n",
       "      <th></th>\n",
       "      <th>sepal_length</th>\n",
       "      <th>sepal_width</th>\n",
       "      <th>petal_length</th>\n",
       "      <th>petal_width</th>\n",
       "    </tr>\n",
       "  </thead>\n",
       "  <tbody>\n",
       "    <tr>\n",
       "      <th>0</th>\n",
       "      <td>5.1</td>\n",
       "      <td>3.5</td>\n",
       "      <td>1.4</td>\n",
       "      <td>0.2</td>\n",
       "    </tr>\n",
       "    <tr>\n",
       "      <th>1</th>\n",
       "      <td>4.9</td>\n",
       "      <td>3.0</td>\n",
       "      <td>1.4</td>\n",
       "      <td>0.2</td>\n",
       "    </tr>\n",
       "    <tr>\n",
       "      <th>2</th>\n",
       "      <td>4.7</td>\n",
       "      <td>3.2</td>\n",
       "      <td>1.3</td>\n",
       "      <td>0.2</td>\n",
       "    </tr>\n",
       "    <tr>\n",
       "      <th>3</th>\n",
       "      <td>4.6</td>\n",
       "      <td>3.1</td>\n",
       "      <td>1.5</td>\n",
       "      <td>0.2</td>\n",
       "    </tr>\n",
       "    <tr>\n",
       "      <th>4</th>\n",
       "      <td>5.0</td>\n",
       "      <td>3.6</td>\n",
       "      <td>1.4</td>\n",
       "      <td>0.2</td>\n",
       "    </tr>\n",
       "    <tr>\n",
       "      <th>...</th>\n",
       "      <td>...</td>\n",
       "      <td>...</td>\n",
       "      <td>...</td>\n",
       "      <td>...</td>\n",
       "    </tr>\n",
       "    <tr>\n",
       "      <th>145</th>\n",
       "      <td>6.7</td>\n",
       "      <td>3.0</td>\n",
       "      <td>5.2</td>\n",
       "      <td>2.3</td>\n",
       "    </tr>\n",
       "    <tr>\n",
       "      <th>146</th>\n",
       "      <td>6.3</td>\n",
       "      <td>2.5</td>\n",
       "      <td>5.0</td>\n",
       "      <td>1.9</td>\n",
       "    </tr>\n",
       "    <tr>\n",
       "      <th>147</th>\n",
       "      <td>6.5</td>\n",
       "      <td>3.0</td>\n",
       "      <td>5.2</td>\n",
       "      <td>2.0</td>\n",
       "    </tr>\n",
       "    <tr>\n",
       "      <th>148</th>\n",
       "      <td>6.2</td>\n",
       "      <td>3.4</td>\n",
       "      <td>5.4</td>\n",
       "      <td>2.3</td>\n",
       "    </tr>\n",
       "    <tr>\n",
       "      <th>149</th>\n",
       "      <td>5.9</td>\n",
       "      <td>3.0</td>\n",
       "      <td>5.1</td>\n",
       "      <td>1.8</td>\n",
       "    </tr>\n",
       "  </tbody>\n",
       "</table>\n",
       "<p>150 rows × 4 columns</p>\n",
       "</div>"
      ],
      "text/plain": [
       "     sepal_length  sepal_width  petal_length  petal_width\n",
       "0             5.1          3.5           1.4          0.2\n",
       "1             4.9          3.0           1.4          0.2\n",
       "2             4.7          3.2           1.3          0.2\n",
       "3             4.6          3.1           1.5          0.2\n",
       "4             5.0          3.6           1.4          0.2\n",
       "..            ...          ...           ...          ...\n",
       "145           6.7          3.0           5.2          2.3\n",
       "146           6.3          2.5           5.0          1.9\n",
       "147           6.5          3.0           5.2          2.0\n",
       "148           6.2          3.4           5.4          2.3\n",
       "149           5.9          3.0           5.1          1.8\n",
       "\n",
       "[150 rows x 4 columns]"
      ]
     },
     "execution_count": 62,
     "metadata": {},
     "output_type": "execute_result"
    }
   ],
   "source": [
    "df.iloc[:,0:-1]"
   ]
  },
  {
   "cell_type": "code",
   "execution_count": 24,
   "id": "6ba86bd1",
   "metadata": {},
   "outputs": [
    {
     "name": "stdout",
     "output_type": "stream",
     "text": [
      "Package                Version\n",
      "---------------------- -----------\n",
      "argon2-cffi            21.3.0\n",
      "argon2-cffi-bindings   21.2.0\n",
      "attrs                  21.4.0\n",
      "avro                   1.11.0\n",
      "backcall               0.2.0\n",
      "bleach                 4.1.0\n",
      "cassandra-driver       3.25.0\n",
      "certifi                2021.10.8\n",
      "cffi                   1.15.0\n",
      "charset-normalizer     2.0.12\n",
      "click                  8.0.4\n",
      "colorama               0.4.4\n",
      "colorlover             0.3.0\n",
      "cufflinks              0.17.3\n",
      "cycler                 0.11.0\n",
      "debugpy                1.5.1\n",
      "decorator              5.1.1\n",
      "defusedxml             0.7.1\n",
      "dnspython              2.2.0\n",
      "docutils               0.18.1\n",
      "entrypoints            0.4\n",
      "et-xmlfile             1.1.0\n",
      "Flask                  2.1.2\n",
      "fonttools              4.31.2\n",
      "geomet                 0.2.1.post1\n",
      "idna                   3.3\n",
      "importlib-metadata     4.10.1\n",
      "importlib-resources    5.4.0\n",
      "ipykernel              6.8.0\n",
      "ipython                7.31.1\n",
      "ipython-genutils       0.2.0\n",
      "ipywidgets             7.6.5\n",
      "itsdangerous           2.1.2\n",
      "jedi                   0.18.1\n",
      "Jinja2                 3.0.3\n",
      "joblib                 1.1.0\n",
      "jsonschema             4.4.0\n",
      "jupyter                1.0.0\n",
      "jupyter-client         7.1.2\n",
      "jupyter-console        6.4.0\n",
      "jupyter-core           4.9.1\n",
      "jupyterlab-pygments    0.1.2\n",
      "jupyterlab-widgets     1.0.2\n",
      "Kivy                   2.1.0\n",
      "kivy-deps.angle        0.3.2\n",
      "kivy-deps.glew         0.3.1\n",
      "kivy-deps.sdl2         0.4.5\n",
      "Kivy-Garden            0.1.5\n",
      "kiwisolver             1.4.0\n",
      "lxml                   4.8.0\n",
      "MarkupSafe             2.0.1\n",
      "matplotlib             3.5.1\n",
      "matplotlib-inline      0.1.3\n",
      "mistune                0.8.4\n",
      "mysql-connector-python 8.0.28\n",
      "nbclient               0.5.10\n",
      "nbconvert              6.4.1\n",
      "nbformat               5.1.3\n",
      "nest-asyncio           1.5.4\n",
      "notebook               6.4.8\n",
      "numpy                  1.21.5\n",
      "openpyxl               3.0.9\n",
      "packaging              21.3\n",
      "pandas                 1.1.5\n",
      "pandocfilters          1.5.0\n",
      "parso                  0.8.3\n",
      "pickleshare            0.7.5\n",
      "Pillow                 9.0.1\n",
      "pip                    21.2.4\n",
      "plotly                 5.6.0\n",
      "prometheus-client      0.13.1\n",
      "prompt-toolkit         3.0.26\n",
      "protobuf               3.19.4\n",
      "pycparser              2.21\n",
      "Pygments               2.11.2\n",
      "pymongo                4.0.1\n",
      "pyparsing              3.0.7\n",
      "pypiwin32              223\n",
      "pyrsistent             0.18.1\n",
      "python-dateutil        2.8.2\n",
      "pytz                   2021.3\n",
      "pywin32                303\n",
      "pywinpty               2.0.2\n",
      "pyzmq                  22.3.0\n",
      "qtconsole              5.2.2\n",
      "QtPy                   2.0.1\n",
      "requests               2.27.1\n",
      "scikit-learn           1.0.2\n",
      "scipy                  1.7.3\n",
      "seaborn                0.11.2\n",
      "Send2Trash             1.8.0\n",
      "setuptools             58.0.4\n",
      "six                    1.16.0\n",
      "sklearn                0.0\n",
      "tabulate               0.8.9\n",
      "tenacity               8.0.1\n",
      "terminado              0.13.1\n",
      "testpath               0.5.0\n",
      "threadpoolctl          3.1.0\n",
      "tornado                6.1\n",
      "traitlets              5.1.1\n",
      "typing_extensions      4.0.1\n",
      "urllib3                1.26.8\n",
      "wcwidth                0.2.5\n",
      "webencodings           0.5.1\n",
      "Werkzeug               2.1.2\n",
      "wheel                  0.37.1\n",
      "widgetsnbextension     3.5.2\n",
      "wincertstore           0.2\n",
      "xlrd                   1.2.0\n",
      "zipp                   3.7.0\n"
     ]
    }
   ],
   "source": [
    "!pip list\n"
   ]
  },
  {
   "cell_type": "code",
   "execution_count": null,
   "id": "76e1f10a",
   "metadata": {},
   "outputs": [],
   "source": []
  }
 ],
 "metadata": {
  "kernelspec": {
   "display_name": "Python 3 (ipykernel)",
   "language": "python",
   "name": "python3"
  },
  "language_info": {
   "codemirror_mode": {
    "name": "ipython",
    "version": 3
   },
   "file_extension": ".py",
   "mimetype": "text/x-python",
   "name": "python",
   "nbconvert_exporter": "python",
   "pygments_lexer": "ipython3",
   "version": "3.7.0"
  }
 },
 "nbformat": 4,
 "nbformat_minor": 5
}
